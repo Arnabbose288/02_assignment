{
 "cells": [
  {
   "cell_type": "markdown",
   "id": "31990ab4",
   "metadata": {},
   "source": [
    "# Python Assignment ____________________ 2"
   ]
  },
  {
   "cell_type": "markdown",
   "id": "778ebc65",
   "metadata": {},
   "source": [
    "Question 1"
   ]
  },
  {
   "cell_type": "code",
   "execution_count": 1,
   "id": "8fba1e6a",
   "metadata": {},
   "outputs": [
    {
     "name": "stdout",
     "output_type": "stream",
     "text": [
      "*\n",
      "**\n",
      "***\n",
      "****\n",
      "*****\n",
      "****\r\n",
      "***\r\n",
      "**\r\n",
      "*\r\n",
      "\r\n"
     ]
    }
   ],
   "source": [
    "#number of rows we want to print\n",
    "r=5\n",
    "#for statement is for the rows that we want to print \n",
    "for i in range(5):  \n",
    "    #this itreation is for the columns which dempends or change with respect to rows value \n",
    "    for j in range(0,i+1):\n",
    "        #end=\"\" statement will not print by default spaces in the next lines\n",
    "        print(\"*\", end=\"\")\n",
    "    print(\"\")\n",
    "for i in range(r,0,-1):\n",
    "    for j in range (i-1):\n",
    "        print(\"*\",end=\"\")\n",
    "        #ending lines after each rows\n",
    "    print(\"\\r\")"
   ]
  },
  {
   "cell_type": "markdown",
   "id": "b1b6641e",
   "metadata": {},
   "source": [
    "Question 2"
   ]
  },
  {
   "cell_type": "code",
   "execution_count": 2,
   "id": "dc34bf83",
   "metadata": {},
   "outputs": [
    {
     "name": "stdout",
     "output_type": "stream",
     "text": [
      "Enter the word : ineuron\n",
      "norueni\n"
     ]
    }
   ],
   "source": [
    "word= input(\"Enter the word : \")[::-1]\n",
    "print(word)"
   ]
  },
  {
   "cell_type": "code",
   "execution_count": null,
   "id": "716ab525",
   "metadata": {},
   "outputs": [],
   "source": []
  }
 ],
 "metadata": {
  "kernelspec": {
   "display_name": "Python 3",
   "language": "python",
   "name": "python3"
  },
  "language_info": {
   "codemirror_mode": {
    "name": "ipython",
    "version": 3
   },
   "file_extension": ".py",
   "mimetype": "text/x-python",
   "name": "python",
   "nbconvert_exporter": "python",
   "pygments_lexer": "ipython3",
   "version": "3.8.8"
  }
 },
 "nbformat": 4,
 "nbformat_minor": 5
}
